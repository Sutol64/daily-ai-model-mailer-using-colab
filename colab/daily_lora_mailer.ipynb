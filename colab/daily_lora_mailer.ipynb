# ⬇️ If running on Colab
!pip install diffusers transformers accelerate huggingface_hub --quiet
!pip install torch torchvision torchaudio --index-url https://download.pytorch.org/whl/cpu --quiet

import os
import torch
from diffusers import StableDiffusionXLPipeline
from huggingface_hub import login
from email.message import EmailMessage
import smtplib
from datetime import datetime
from PIL import Image

# === CONFIG ===
HF_TOKEN = "your_hf_token"
GMAIL_USER = "your_email@gmail.com"
GMAIL_PASS = "your_app_password"
TO_EMAIL = "recipient_email@gmail.com"

MODEL_ID = "stabilityai/stable-diffusion-xl-base-1.0"
LORA_PATH = "AiLotus/woman877-lora/Woman877.v2.safetensors"
PROMPT = "portrait of a beautiful Indian woman, looking at camera, ultra detailed, natural skin texture, soft lighting"
NEGATIVE_PROMPT = "blurry, low quality, watermark"
OUTPUT_IMAGE = "output.png"

# === LOGIN ===
login(HF_TOKEN)

# === GENERATE IMAGE ===
device = "cuda" if torch.cuda.is_available() else "cpu"

pipe = StableDiffusionXLPipeline.from_pretrained(
    MODEL_ID,
    torch_dtype=torch.float32,
)
pipe = pipe.to(device)

pipe.load_lora_weights(
    pretrained_model_name_or_path_or_dict=MODEL_ID,
    weight_name=LORA_PATH
)
pipe.fuse_lora()

image = pipe(
    prompt=PROMPT,
    negative_prompt=NEGATIVE_PROMPT,
    num_inference_steps=30,
    guidance_scale=7.5
).images[0]

image.save(OUTPUT_IMAGE)

# === EMAIL ===
msg = EmailMessage()
msg["Subject"] = f"Daily AI Image - {datetime.now().strftime('%Y-%m-%d')}"
msg["From"] = GMAIL_USER
msg["To"] = TO_EMAIL
msg.set_content("Attached is your daily AI-generated image.")

with open(OUTPUT_IMAGE, "rb") as img_file:
    msg.add_attachment(img_file.read(), maintype="image", subtype="png", filename=OUTPUT_IMAGE)

with smtplib.SMTP_SSL("smtp.gmail.com", 465) as smtp:
    smtp.login(GMAIL_USER, GMAIL_PASS)
    smtp.send_message(msg)

print("✅ Image sent via email!")
