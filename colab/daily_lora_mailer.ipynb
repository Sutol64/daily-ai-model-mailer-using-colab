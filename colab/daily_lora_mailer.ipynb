!pip install --upgrade diffusers transformers accelerate huggingface_hub
!pip install torch
!pip install --upgrade peft
!pip install -q --upgrade scipy Pillow

HF_TOKEN = "your_hf_token_here"
GMAIL_USER = "your_email@gmail.com"
GMAIL_PASS = "your_app_password"  # Use an app-specific password (not Gmail login)
TO_EMAIL = "receiver_email@gmail.com"


import os
import torch
from diffusers import StableDiffusionXLPipeline
from huggingface_hub import login
import smtplib
from email.message import EmailMessage
from datetime import datetime

MODEL_ID = "stabilityai/stable-diffusion-xl-base-1.0"
LORA_PATH = "AiLotus/woman877-lora/Woman877.v2.safetensors"
PROMPT = "portrait of a beautiful Indian woman, looking at camera, ultra detailed, natural skin texture, soft lighting"
NEGATIVE_PROMPT = "blurry, low quality, watermark"
OUTPUT_IMAGE = "/content/output.png"

# Login
login(token=HF_TOKEN)

pipe = StableDiffusionXLPipeline.from_pretrained(
    MODEL_ID,
    torch_dtype=torch.float32,
)
pipe.load_lora_weights(MODEL_ID, weight_name=LORA_PATH)
pipe.fuse_lora()
pipe = pipe.to("cuda" if torch.cuda.is_available() else "cpu")

# Generate image
image = pipe(prompt=PROMPT, negative_prompt=NEGATIVE_PROMPT, num_inference_steps=30, guidance_scale=7.5).images[0]
image.save(OUTPUT_IMAGE)

# Email it
msg = EmailMessage()
msg["Subject"] = f"Daily AI Image - {datetime.now().strftime('%Y-%m-%d')}"
msg["From"] = GMAIL_USER
msg["To"] = TO_EMAIL
msg.set_content("Attached is your daily AI-generated image.")

with open(OUTPUT_IMAGE, "rb") as f:
    msg.add_attachment(f.read(), maintype="image", subtype="png", filename="output.png")

with smtplib.SMTP_SSL("smtp.gmail.com", 465) as smtp:
    smtp.login(GMAIL_USER, GMAIL_PASS)
    smtp.send_message(msg)

print("Done!")


